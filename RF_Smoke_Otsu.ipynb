{
 "cells": [
  {
   "cell_type": "code",
   "execution_count": null,
   "id": "8c6172b3-c2d0-4289-9ef5-30f0bde89557",
   "metadata": {},
   "outputs": [],
   "source": [
    "import numpy as np\n",
    "import cv2\n",
    "import pandas as pd\n",
    "from skimage.filters import roberts, sobel, scharr, prewitt\n",
    "from scipy import ndimage as nd\n",
    "from sklearn.model_selection import train_test_split\n",
    "from sklearn.ensemble import RandomForestClassifier\n",
    "import pickle\n",
    "from matplotlib import pyplot as plt\n",
    "from sklearn import metrics\n",
    "import glob"
   ]
  },
  {
   "cell_type": "code",
   "execution_count": null,
   "id": "78bb1083-b04f-4e1e-908c-6ce0734eacde",
   "metadata": {},
   "outputs": [],
   "source": [
    "def feature_extraction(img):\n",
    "    df = pd.DataFrame()\n",
    "    img2 = img.reshape(-1)\n",
    "    df['Original Image'] = img2\n",
    "    num = 1\n",
    "    kernels = []\n",
    "\n",
    "\n",
    "    #genearate gabor filters\n",
    "    for theta in range(2):\n",
    "        theta = theta / 4. * np.pi\n",
    "        for sigma in (1, 3):\n",
    "            for lamda in np.arange(0, np.pi, np.pi / 4):\n",
    "                for gamma in (0.05, 0.5):\n",
    "                    if num in [20,28,13,2,9,10,19,14,16,27,26,25,17,18,1,15]:\n",
    "                        num+=1\n",
    "                        continue\n",
    "                    gabor_label = 'Gabor' + str(num)\n",
    "                    ksize=9\n",
    "                    kernel = cv2.getGaborKernel((ksize, ksize), sigma, theta, lamda, gamma, 0, ktype=cv2.CV_32F)    \n",
    "                    kernels.append(kernel)\n",
    "                    fimg = cv2.filter2D(img2, cv2.CV_8UC3, kernel)\n",
    "                    filtered_img = fimg.reshape(-1)\n",
    "                    df[gabor_label] = filtered_img\n",
    "                    num += 1\n",
    "                    \n",
    "########################################\n",
    "#Geerate OTHER FEATURES and add them to the data frame\n",
    "#Feature 3 is canny edge\n",
    "    edges = cv2.Canny(img, 100,200)   #Image, min and max values\n",
    "    edges1 = edges.reshape(-1)\n",
    "    df['Canny Edge'] = edges1 #Add column to original dataframe\n",
    "\n",
    "#Feature 4 is Roberts edge\n",
    "    edge_roberts = roberts(img)\n",
    "    edge_roberts1 = edge_roberts.reshape(-1)\n",
    "    df['Roberts'] = edge_roberts1\n",
    "\n",
    "#Feature 5 is Sobel\n",
    "    edge_sobel = sobel(img)\n",
    "    edge_sobel1 = edge_sobel.reshape(-1)\n",
    "    df['Sobel'] = edge_sobel1\n",
    "\n",
    "#Feature 6 is Scharr\n",
    "    edge_scharr = scharr(img)\n",
    "    edge_scharr1 = edge_scharr.reshape(-1)\n",
    "    df['Scharr'] = edge_scharr1\n",
    "\n",
    "    #Feature 7 is Prewitt\n",
    "    edge_prewitt = prewitt(img)\n",
    "    edge_prewitt1 = edge_prewitt.reshape(-1)\n",
    "    df['Prewitt'] = edge_prewitt1\n",
    "\n",
    "    #Feature 8 is Gaussian with sigma=3\n",
    "    gaussian_img = nd.gaussian_filter(img, sigma=3)\n",
    "    gaussian_img1 = gaussian_img.reshape(-1)\n",
    "    df['Gaussian s3'] = gaussian_img1\n",
    "\n",
    "    #Feature 9 is Gaussian with sigma=7\n",
    "    gaussian_img2 = nd.gaussian_filter(img, sigma=7)\n",
    "    gaussian_img3 = gaussian_img2.reshape(-1)\n",
    "    df['Gaussian s7'] = gaussian_img3\n",
    "\n",
    "    #Feature 10 is Median with sigma=3\n",
    "    median_img = nd.median_filter(img, size=3)\n",
    "    median_img1 = median_img.reshape(-1)\n",
    "    df['Median s3'] = median_img1\n",
    "\n",
    "    #Feature 11 is Otsu Thresholding\n",
    "    ret,otsu_img = cv2.threshold(img,0,255,cv2.THRESH_BINARY+cv2.THRESH_OTSU)\n",
    "    otsu_img1 = otsu_img.reshape(-1)\n",
    "    df['Otsu'] = otsu_img1  #Add column to original dataframe\n",
    "\n",
    "\n",
    "    return df"
   ]
  },
  {
   "cell_type": "code",
   "execution_count": null,
   "id": "335be574-4496-448b-bb96-44c0d3776821",
   "metadata": {},
   "outputs": [],
   "source": [
    "image_dataset = pd.DataFrame();\n",
    "path = \"images/train_images/*.jpg\"\n",
    "for file in glob.glob(path):\n",
    "    img1= cv2.imread(file)\n",
    "    img = cv2.cvtColor(img1,cv2.COLOR_BGR2GRAY)\n",
    "\n",
    "    X = feature_extraction(img)\n",
    "    image_dataset = pd.concat([image_dataset,X],ignore_index = True)\n",
    "    "
   ]
  },
  {
   "cell_type": "code",
   "execution_count": null,
   "id": "e6125a21-ac79-47a5-9f61-4824dd44d02b",
   "metadata": {},
   "outputs": [],
   "source": [
    "mask_dataset = pd.DataFrame();\n",
    "path = \"images/train_masks/*.png\"\n",
    "for file in glob.glob(path):\n",
    "    # print(file)\n",
    "    temp = pd.DataFrame()\n",
    "    img1= cv2.imread(file)\n",
    "    img = cv2.cvtColor(img1,cv2.COLOR_BGR2GRAY)\n",
    "    img = np.where(img>0,255,img)\n",
    "\n",
    "    X = img.reshape(-1)\n",
    "    temp['Labels'] = X\n",
    "    mask_dataset = pd.concat([mask_dataset,temp],ignore_index = True)"
   ]
  },
  {
   "cell_type": "code",
   "execution_count": null,
   "id": "da7fef28-2f04-4b08-a28c-495d4ff84464",
   "metadata": {},
   "outputs": [],
   "source": [
    "dataset = pd.concat([image_dataset,mask_dataset],axis=1)"
   ]
  },
  {
   "cell_type": "code",
   "execution_count": null,
   "id": "a294649e-56d7-4143-a435-d89581b36268",
   "metadata": {},
   "outputs": [],
   "source": [
    "Y = dataset[\"Labels\"].values\n",
    "\n",
    "#Define the independent variables\n",
    "X = dataset.drop(labels = [\"Labels\"], axis=1) \n",
    "\n",
    "#Split data into train and test to verify accuracy after fitting the model. \n",
    "X_train, X_test, y_train, y_test = train_test_split(X, Y, test_size=0.4, random_state=20)"
   ]
  },
  {
   "cell_type": "code",
   "execution_count": null,
   "id": "2052c59e-40d6-4bdf-9193-c06762c14329",
   "metadata": {},
   "outputs": [],
   "source": [
    "model = RandomForestClassifier(n_estimators = 25, random_state = 42,verbose=10)"
   ]
  },
  {
   "cell_type": "code",
   "execution_count": null,
   "id": "65297ba1-71f1-4dab-9663-137abfb7f90c",
   "metadata": {},
   "outputs": [],
   "source": [
    "model.fit(X_train, y_train)"
   ]
  },
  {
   "cell_type": "code",
   "execution_count": null,
   "id": "a1244334-5fc7-4122-8f3e-e3d4bf876ad9",
   "metadata": {},
   "outputs": [],
   "source": [
    "path = \"images/test_images/*.jpg\"\n",
    "for file in glob.glob(path):\n",
    "    \n",
    "    img1= cv2.imread(file)\n",
    "    img = cv2.cvtColor(img1,cv2.COLOR_BGR2GRAY)\n",
    "\n",
    "    name = file.split(\"\\\\\") \n",
    "    print(name[1] + \" extraction start\")\n",
    "    X = feature_extraction(img)\n",
    "    print(name[1] + \" predict start\")\n",
    "    result = loaded_model.predict(X)\n",
    "    segmented = result.reshape((img.shape))\n",
    "    namePng = name[1].split(\".\")\n",
    "    # print(namePng[0]+\".png\")\n",
    "    plt.imsave('images/Segmented/'+ namePng[0]+\".png\", segmented)"
   ]
  }
 ],
 "metadata": {
  "kernelspec": {
   "display_name": "btp_venv",
   "language": "python",
   "name": "btp_venv"
  },
  "language_info": {
   "codemirror_mode": {
    "name": "ipython",
    "version": 3
   },
   "file_extension": ".py",
   "mimetype": "text/x-python",
   "name": "python",
   "nbconvert_exporter": "python",
   "pygments_lexer": "ipython3",
   "version": "3.11.5"
  }
 },
 "nbformat": 4,
 "nbformat_minor": 5
}
